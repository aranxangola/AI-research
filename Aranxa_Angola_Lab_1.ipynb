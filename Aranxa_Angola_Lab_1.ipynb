{
  "nbformat": 4,
  "nbformat_minor": 0,
  "metadata": {
    "colab": {
      "provenance": [],
      "collapsed_sections": [
        "eFNi_s3RiWwc",
        "C8SDfhEloyKH",
        "NrZeHmA2pF7-",
        "SSehamg7pVQ-",
        "lrL2Razq9AT7",
        "dTOHPs3KFQ2U",
        "xe9KExvXIFDQ",
        "P8xGcQSuauDT"
      ],
      "include_colab_link": true
    },
    "kernelspec": {
      "name": "python3",
      "display_name": "Python 3"
    },
    "language_info": {
      "name": "python"
    }
  },
  "cells": [
    {
      "cell_type": "markdown",
      "metadata": {
        "id": "view-in-github",
        "colab_type": "text"
      },
      "source": [
        "<a href=\"https://colab.research.google.com/github/aranxangola/AI-research/blob/main/Aranxa_Angola_Lab_1.ipynb\" target=\"_parent\"><img src=\"https://colab.research.google.com/assets/colab-badge.svg\" alt=\"Open In Colab\"/></a>"
      ]
    },
    {
      "cell_type": "markdown",
      "source": [
        "## Python Basics"
      ],
      "metadata": {
        "id": "0Lv7wtZ-iTC4"
      }
    },
    {
      "cell_type": "markdown",
      "source": [
        "### Calculator"
      ],
      "metadata": {
        "id": "eFNi_s3RiWwc"
      }
    },
    {
      "cell_type": "code",
      "source": [
        "# Comments with hashtag, python ignores this"
      ],
      "metadata": {
        "id": "5jk_lQhz0T87"
      },
      "execution_count": null,
      "outputs": []
    },
    {
      "cell_type": "code",
      "source": [
        "30.34321 + 9.12313 - 3.5567   #(+) addition and (-)substraction"
      ],
      "metadata": {
        "id": "Sk8TLU3biY0J",
        "outputId": "a92493a2-273c-4345-dd36-030403b58aff",
        "colab": {
          "base_uri": "https://localhost:8080/"
        }
      },
      "execution_count": null,
      "outputs": [
        {
          "output_type": "execute_result",
          "data": {
            "text/plain": [
              "35.90964"
            ]
          },
          "metadata": {},
          "execution_count": 1
        }
      ]
    },
    {
      "cell_type": "code",
      "source": [
        "2*2 #(*) multiplication"
      ],
      "metadata": {
        "id": "R-u5seQsh_RF"
      },
      "execution_count": null,
      "outputs": []
    },
    {
      "cell_type": "code",
      "source": [
        "2**8 #(**) double asterisks represents to the power"
      ],
      "metadata": {
        "id": "OhzaZtPch_Yb",
        "colab": {
          "base_uri": "https://localhost:8080/"
        },
        "outputId": "9e18512c-fe90-49d3-8e30-8a5359dbf57a"
      },
      "execution_count": 1,
      "outputs": [
        {
          "output_type": "execute_result",
          "data": {
            "text/plain": [
              "256"
            ]
          },
          "metadata": {},
          "execution_count": 1
        }
      ]
    },
    {
      "cell_type": "code",
      "source": [
        "2**123 #this operation gives you"
      ],
      "metadata": {
        "id": "yt6iRMB8h_a2",
        "colab": {
          "base_uri": "https://localhost:8080/"
        },
        "outputId": "acf4e1d6-b224-48ab-d885-0dfa5dc157fd"
      },
      "execution_count": 3,
      "outputs": [
        {
          "output_type": "execute_result",
          "data": {
            "text/plain": [
              "10633823966279326983230456482242756608"
            ]
          },
          "metadata": {},
          "execution_count": 3
        }
      ]
    },
    {
      "cell_type": "code",
      "source": [
        "2**12345"
      ],
      "metadata": {
        "id": "Ej6lPOmHh_dh",
        "collapsed": true,
        "colab": {
          "base_uri": "https://localhost:8080/"
        },
        "outputId": "82554387-0311-45b3-adff-fb55aa499458"
      },
      "execution_count": 4,
      "outputs": [
        {
          "output_type": "execute_result",
          "data": {
            "text/plain": [
              "164171010688258216356020741663906501410127235530735881272116103087925094171390144280159034536439457734870419127140401667195510331085657185332721089236401193044493457116299768844344303479235489462436380672117015123283299131391904179287678259173308536738761981139958654880852234908448338817289014166774169869251339379828599748492918775437864739032217778051333882990074116246281269364933724892342134504702491040016637557429810893780765197418589477584716543480995722533317862352141459217781316266211186486157019262080414077670264642736018426998113523445732680856144329876972273300703392584997729207197971083945700345494092400147186997307012069454068489589035676979448169848060836924945824197706493306108258511936030341393221586423523264452449403781993352421885094664052270795527632721896121424813173522474674395886155092203404036730748474781710715745446135468098139831824083259647919175273503681561172684624283384438504776503000432241604550454374116320822227191911322123484085063926350606342197146407841178028071147192533942517270553513988142925976090769695456221159699052583533011331652079347093098173086975483539274464023357456484465482927479569437320368592222760278170306076733438801098370797675711274671054970711442158930561684343135774118741594506702833147396758825015850042983343690345185995956235143825771620543546030664562647854656431302644574119873820215595718618624485232422006575550007068883734241454686368856734496265385908809403972494685137741122866896719678053937285818409751670320140501843039224040735870096889596273419106389103662095318937990625980136711988237421962315266686856089505981438440850638067589321141759499017023839596858455548192000140085142294166987063499024792681334843159790936321351919859758669569200541507612099780909705198902176026219872201715422096090343686272984351441594569506778041062663266799342793856313801540959815845788584759033248828248561586450271172777240971795656082001848115815260930521663167480173886064019118572778281516735157779555888167787064432558595410843987446497881666288423233170060413025924629950477303342180149398926073618582715358742250388958231281694757980523791263699450732952325727664209947786063982561775327638504516918570101319391698412388607603742484414748268389669129118026878969735782286841116842656410574647607524418900720328045377993386279808768990376289424757351052369393977137871998119168898493037938756635621557623138404459266598837784229325799838782026060481496865561757031839002257091802876949248392744175669112242088439883248336310597001257385980776961529351198877747193531054956881808332177946751404038228718567911769630971553915410012677600002457982207465176670752102117002773980548089696530972476439694599881281812973217265853884727906535479745854085338851105144585481994156206497436745899944877732531412541279014300324594890623941145509856940982863769834430048120562966797907114102689879364945689860493474954538422367719507882513166051007352994068319251450666676648368200564329382998758875760414259654004977261309988267319806354856051784553990936610634733375984159028722378614984450255386315585631994503350002142910493190254825610707400589976364985748467955131077971641882672895854571236368282811336220769174784720113331269084746524204124263475054112841630933586166195036115696469686075600480420563557567616835633252622327172811002146392754445051182169805284630259703542633955126179520113059629914229833688535925729676778028406897316106101038469119090984567152591962365415039646394591503830797626339246986057077758611413664914168745375266786298141171496573941614387744125843685677063619782918759823106021054037757857761587472240835040580447360544029064930412569943169729238102162312218687930203068055400275795180972382856696655279408212344832"
            ]
          },
          "metadata": {},
          "execution_count": 4
        }
      ]
    },
    {
      "cell_type": "code",
      "source": [
        "import sys\n",
        "sys.set_int_max_str_digits(100000)\n",
        "2**45678"
      ],
      "metadata": {
        "id": "0_Tjv73WXg67"
      },
      "execution_count": null,
      "outputs": []
    },
    {
      "cell_type": "code",
      "source": [
        "8/4"
      ],
      "metadata": {
        "id": "HWnnfszJzi1N"
      },
      "execution_count": null,
      "outputs": []
    },
    {
      "cell_type": "code",
      "source": [
        "8//4"
      ],
      "metadata": {
        "id": "NzDS65ewzkDe"
      },
      "execution_count": null,
      "outputs": []
    },
    {
      "cell_type": "code",
      "source": [
        "8%12"
      ],
      "metadata": {
        "id": "MwcyFBu4zlgE"
      },
      "execution_count": null,
      "outputs": []
    },
    {
      "cell_type": "code",
      "source": [
        "13%12"
      ],
      "metadata": {
        "id": "KGMyjnL_zm-8"
      },
      "execution_count": null,
      "outputs": []
    },
    {
      "cell_type": "code",
      "source": [
        "22%12"
      ],
      "metadata": {
        "id": "YSUzBZWEzrvu"
      },
      "execution_count": null,
      "outputs": []
    },
    {
      "cell_type": "code",
      "source": [
        "24%12"
      ],
      "metadata": {
        "id": "abx0hn9jz-pB"
      },
      "execution_count": null,
      "outputs": []
    },
    {
      "cell_type": "markdown",
      "source": [
        "### Variables"
      ],
      "metadata": {
        "id": "C8SDfhEloyKH"
      }
    },
    {
      "cell_type": "code",
      "source": [
        "apples = 5"
      ],
      "metadata": {
        "id": "LMw0vkqhh_iu"
      },
      "execution_count": null,
      "outputs": []
    },
    {
      "cell_type": "code",
      "source": [
        "oranges = 8"
      ],
      "metadata": {
        "id": "RWMUvAJhh_lA"
      },
      "execution_count": null,
      "outputs": []
    },
    {
      "cell_type": "code",
      "source": [
        "total = apples + oranges"
      ],
      "metadata": {
        "id": "JFF0Q3Bhh_na"
      },
      "execution_count": null,
      "outputs": []
    },
    {
      "cell_type": "code",
      "source": [
        "total"
      ],
      "metadata": {
        "id": "fDX5SYA8h_qC"
      },
      "execution_count": null,
      "outputs": []
    },
    {
      "cell_type": "code",
      "source": [
        "apples**2"
      ],
      "metadata": {
        "id": "v3LbjRnEh_sU"
      },
      "execution_count": null,
      "outputs": []
    },
    {
      "cell_type": "code",
      "source": [
        "cost_per_apple = 0.25"
      ],
      "metadata": {
        "id": "PyMaiewtiRRu"
      },
      "execution_count": null,
      "outputs": []
    },
    {
      "cell_type": "code",
      "source": [
        "total_apple_costs = cost_per_apple * apples"
      ],
      "metadata": {
        "id": "ssPAIuNCiRT6"
      },
      "execution_count": null,
      "outputs": []
    },
    {
      "cell_type": "code",
      "source": [
        "total_apple_costs"
      ],
      "metadata": {
        "id": "NRZizjgRiRWB"
      },
      "execution_count": null,
      "outputs": []
    },
    {
      "cell_type": "markdown",
      "source": [
        "### Vectors"
      ],
      "metadata": {
        "id": "NrZeHmA2pF7-"
      }
    },
    {
      "cell_type": "code",
      "source": [
        "import numpy as np\n",
        "import matplotlib.pyplot as plt"
      ],
      "metadata": {
        "id": "8IZ5UUuriRcT"
      },
      "execution_count": null,
      "outputs": []
    },
    {
      "cell_type": "code",
      "source": [
        "np.arange(10)"
      ],
      "metadata": {
        "id": "eVVE2-PXiRe2"
      },
      "execution_count": null,
      "outputs": []
    },
    {
      "cell_type": "code",
      "source": [
        "x = np.arange(10)"
      ],
      "metadata": {
        "id": "lxDda9rPiRgr"
      },
      "execution_count": null,
      "outputs": []
    },
    {
      "cell_type": "code",
      "source": [
        "x"
      ],
      "metadata": {
        "id": "WLNa80A1iRiv"
      },
      "execution_count": null,
      "outputs": []
    },
    {
      "cell_type": "code",
      "source": [
        "y = 3 * x + 5"
      ],
      "metadata": {
        "id": "wvBymvO6iRk9"
      },
      "execution_count": null,
      "outputs": []
    },
    {
      "cell_type": "code",
      "source": [
        "y"
      ],
      "metadata": {
        "id": "R0caJJvuiRnD"
      },
      "execution_count": null,
      "outputs": []
    },
    {
      "cell_type": "code",
      "source": [
        "# x = np.array([133,24,333,4,5,6])\n",
        "# y = np.array([11,22,33,44,55,66])"
      ],
      "metadata": {
        "id": "BfLYoPWpvAft"
      },
      "execution_count": null,
      "outputs": []
    },
    {
      "cell_type": "code",
      "source": [
        "x,y"
      ],
      "metadata": {
        "id": "_mgPXYE-HS0z"
      },
      "execution_count": null,
      "outputs": []
    },
    {
      "cell_type": "markdown",
      "source": [
        "### Plotting"
      ],
      "metadata": {
        "id": "SSehamg7pVQ-"
      }
    },
    {
      "cell_type": "code",
      "source": [
        "plt.plot(x,y)"
      ],
      "metadata": {
        "id": "lv2MktRkvAru"
      },
      "execution_count": null,
      "outputs": []
    },
    {
      "cell_type": "code",
      "source": [
        "plt.plot(x,y,'.')"
      ],
      "metadata": {
        "id": "q_SC501IvNyQ"
      },
      "execution_count": null,
      "outputs": []
    },
    {
      "cell_type": "code",
      "source": [
        "plt.plot(x,y,'r.')"
      ],
      "metadata": {
        "id": "Mp3pHMdSvPcQ"
      },
      "execution_count": null,
      "outputs": []
    },
    {
      "cell_type": "code",
      "source": [
        "plt.plot(x,y,'b--')"
      ],
      "metadata": {
        "id": "2_sDDZyhvREK"
      },
      "execution_count": null,
      "outputs": []
    },
    {
      "cell_type": "code",
      "source": [
        "import matplotlib.pyplot as plt"
      ],
      "metadata": {
        "id": "5xxvUltOiRrY"
      },
      "execution_count": null,
      "outputs": []
    },
    {
      "cell_type": "code",
      "source": [
        "plt.plot(x,y)"
      ],
      "metadata": {
        "id": "7GqRu33ziRx6"
      },
      "execution_count": null,
      "outputs": []
    },
    {
      "cell_type": "code",
      "source": [
        "x = np.linspace(0,5,10)"
      ],
      "metadata": {
        "id": "W9d-C2GkpavQ"
      },
      "execution_count": null,
      "outputs": []
    },
    {
      "cell_type": "code",
      "source": [
        "x"
      ],
      "metadata": {
        "id": "xm4FuiXapaxM"
      },
      "execution_count": null,
      "outputs": []
    },
    {
      "cell_type": "code",
      "source": [
        "y = x**2"
      ],
      "metadata": {
        "id": "EFVXNTBlpazx"
      },
      "execution_count": null,
      "outputs": []
    },
    {
      "cell_type": "code",
      "source": [
        "plt.plot(x,y)"
      ],
      "metadata": {
        "id": "zeDSPzcypa3l"
      },
      "execution_count": null,
      "outputs": []
    },
    {
      "cell_type": "code",
      "source": [
        "plt.plot(x,y)\n",
        "plt.title(\"New Graph of x**2\");\n",
        "plt.xlabel(\"x\");\n",
        "plt.ylabel(\"y\");"
      ],
      "metadata": {
        "id": "Ya-NbJXBpa79"
      },
      "execution_count": null,
      "outputs": []
    },
    {
      "cell_type": "code",
      "source": [
        "plt.plot(x,y,label=\"x squared\")\n",
        "plt.title(\"Graph of x**2\");\n",
        "plt.xlabel(\"x\");\n",
        "plt.ylabel(\"y\");\n",
        "plt.legend()"
      ],
      "metadata": {
        "id": "XaKFm2-1iR0D"
      },
      "execution_count": null,
      "outputs": []
    },
    {
      "cell_type": "code",
      "source": [
        "x = np.linspace(0, 2, 100)\n",
        "\n",
        "plt.plot(x, x, label='linear')\n",
        "plt.plot(x, x**2, label='quadratic')\n",
        "plt.plot(x, x**3, label='cubic')\n",
        "\n",
        "plt.xlabel('x label')\n",
        "plt.ylabel('y label')\n",
        "\n",
        "plt.title(\"Simple Plot\")\n",
        "\n",
        "plt.legend()"
      ],
      "metadata": {
        "id": "QySsAtYkCZ-M"
      },
      "execution_count": null,
      "outputs": []
    },
    {
      "cell_type": "code",
      "source": [
        "labels = 'Frogs', 'Dogs', 'Cats', 'Birds'\n",
        "sizes = [15, 30, 40, 15]\n",
        "explode = (0, 0.1, 0, 0)  # only \"explode\" the 2nd slice (i.e. 'Dogs')\n",
        "\n",
        "fig1, ax1 = plt.subplots()\n",
        "ax1.pie(sizes, explode=explode, labels=labels, autopct='%1.1f%%', shadow=True, startangle=90)\n",
        "ax1.axis('equal')  # Equal aspect ratio ensures that pie is drawn as a circle.\n",
        "plt.show()"
      ],
      "metadata": {
        "id": "GXCljzCzHK8v"
      },
      "execution_count": null,
      "outputs": []
    },
    {
      "cell_type": "code",
      "source": [
        "import numpy as np\n",
        "import matplotlib.pyplot as plt\n",
        "t = np.arange(0.0, 2.0, 0.01)\n",
        "s = np.sin(2*np.pi*t)\n",
        "\n",
        "plt.plot(t, s)\n",
        "plt.title(r'$\\alpha_i > \\beta_i$', fontsize=20)\n",
        "plt.text(1, -0.6, r'$\\sum_{i=0}^\\infty x_i$', fontsize=20)\n",
        "plt.text(0.5, 0.6, r'$\\mathcal{A}\\mathrm{sin}(2 \\omega t)$',fontsize=15)\n",
        "plt.xlabel('time (s)')\n",
        "plt.ylabel('volts (mV)')\n",
        "plt.show()"
      ],
      "metadata": {
        "id": "cbJTtIWUHKNn"
      },
      "execution_count": null,
      "outputs": []
    },
    {
      "cell_type": "markdown",
      "source": [
        "Plot the following functions from $x = -10$ to $x = 10$\n",
        "\n",
        "(Hint: np.sin, np.exp)"
      ],
      "metadata": {
        "id": "aBIah-uiGUXZ"
      }
    },
    {
      "cell_type": "markdown",
      "source": [
        "$y = 10x+7$\n",
        "\n",
        "$y = -3x-12$\n",
        "\n",
        "$y=\\sin(x)$\n",
        "\n",
        "$y=e^x$\n",
        "\n",
        "$y=e^{-x^2}$"
      ],
      "metadata": {
        "id": "5HATIyQyGfEj"
      }
    },
    {
      "cell_type": "markdown",
      "source": [
        "Pick out a plot of your choice from [here](https://matplotlib.org/stable/gallery/index.html), copy the code to this notebook, run, and document to the best of your abilities."
      ],
      "metadata": {
        "id": "t0g5nhtbHfta"
      }
    },
    {
      "cell_type": "code",
      "source": [
        "import matplotlib.pyplot as plt\n",
        "import numpy as np\n",
        "\n",
        "from matplotlib.colors import Normalize\n",
        "from matplotlib.markers import MarkerStyle\n",
        "from matplotlib.text import TextPath\n",
        "from matplotlib.transforms import Affine2D\n",
        "\n",
        "SUCCESS_SYMBOLS = [\n",
        "    TextPath((0, 0), \"☹\"),\n",
        "    TextPath((0, 0), \"😒\"),\n",
        "    TextPath((0, 0), \"☺\"),\n",
        "]\n",
        "\n",
        "N = 25\n",
        "skills = np.random.uniform(5, 80, size=N) * 0.1 + 5\n",
        "takeoff_angles = np.random.normal(0, 90, N)\n",
        "thrusts = np.random.uniform(size=N)\n",
        "successful = np.random.randint(0, 3, size=N)\n",
        "positions = np.random.normal(size=(N, 2)) * 5\n",
        "data = zip(skills, takeoff_angles, thrusts, successful, positions)\n",
        "\n",
        "cmap = plt.colormaps[\"jet\"]\n",
        "fig, ax = plt.subplots()\n",
        "fig.suptitle(\"Throwing success\", size=14)\n",
        "for skill, takeoff, thrust, mood, pos in data:\n",
        "    t = Affine2D().scale(skill).rotate_deg(takeoff)\n",
        "    m = MarkerStyle(SUCCESS_SYMBOLS[mood], transform=t)\n",
        "    ax.plot(pos[0], pos[1], marker=m, color=cmap(thrust))\n",
        "\n",
        "\n",
        "plt.show()"
      ],
      "metadata": {
        "id": "2LWMYXMCHg6P"
      },
      "execution_count": null,
      "outputs": []
    },
    {
      "cell_type": "code",
      "source": [],
      "metadata": {
        "id": "Zp5utNcWI6Qj"
      },
      "execution_count": null,
      "outputs": []
    },
    {
      "cell_type": "code",
      "source": [],
      "metadata": {
        "id": "ZU7yJ91lI6aS"
      },
      "execution_count": null,
      "outputs": []
    },
    {
      "cell_type": "code",
      "source": [],
      "metadata": {
        "id": "OqlbqmRcI6kY"
      },
      "execution_count": null,
      "outputs": []
    },
    {
      "cell_type": "markdown",
      "source": [
        "### Graphics Output"
      ],
      "metadata": {
        "id": "lrL2Razq9AT7"
      }
    },
    {
      "cell_type": "code",
      "execution_count": null,
      "metadata": {
        "id": "SS8HqWzEEs8l"
      },
      "outputs": [],
      "source": [
        "from IPython.core.display import display, HTML"
      ]
    },
    {
      "cell_type": "code",
      "metadata": {
        "id": "scoPAjX5I36X"
      },
      "source": [
        "display(HTML('<h1>Hello World!</h1>'))"
      ],
      "execution_count": null,
      "outputs": []
    },
    {
      "cell_type": "markdown",
      "source": [
        "### Numpy - Numerical Python"
      ],
      "metadata": {
        "id": "dTOHPs3KFQ2U"
      }
    },
    {
      "cell_type": "code",
      "source": [
        "import numpy as np"
      ],
      "metadata": {
        "id": "BC1S6fo9FOBE"
      },
      "execution_count": null,
      "outputs": []
    },
    {
      "cell_type": "code",
      "source": [
        "np.random.random()"
      ],
      "metadata": {
        "id": "Qo72tOfu5YTm"
      },
      "execution_count": null,
      "outputs": []
    },
    {
      "cell_type": "code",
      "source": [
        "np.random.random() > 0.5;"
      ],
      "metadata": {
        "id": "Ew6vCebg5aXK"
      },
      "execution_count": null,
      "outputs": []
    },
    {
      "cell_type": "code",
      "source": [
        "r = np.random.random(); print(r); r >0.5"
      ],
      "metadata": {
        "id": "9Kxax1cSKi0e"
      },
      "execution_count": null,
      "outputs": []
    },
    {
      "cell_type": "code",
      "source": [
        "r"
      ],
      "metadata": {
        "id": "wGJ6FEojKjB1"
      },
      "execution_count": null,
      "outputs": []
    },
    {
      "cell_type": "code",
      "source": [
        "r > 0.5"
      ],
      "metadata": {
        "id": "mclzEhslKjPP"
      },
      "execution_count": null,
      "outputs": []
    },
    {
      "cell_type": "code",
      "source": [],
      "metadata": {
        "id": "2mcw6yU1KjfO"
      },
      "execution_count": null,
      "outputs": []
    },
    {
      "cell_type": "code",
      "source": [],
      "metadata": {
        "id": "LnQJtIIEKjt-"
      },
      "execution_count": null,
      "outputs": []
    },
    {
      "cell_type": "code",
      "source": [],
      "metadata": {
        "id": "eueTYbXdJ_wy"
      },
      "execution_count": null,
      "outputs": []
    },
    {
      "cell_type": "code",
      "source": [
        "def flip_coin():\n",
        "    if np.random.random() > 0.5:\n",
        "        print(\"Heads\")\n",
        "    else:\n",
        "        print(\"Tails\")"
      ],
      "metadata": {
        "id": "HwbqZHbm5e2u"
      },
      "execution_count": null,
      "outputs": []
    },
    {
      "cell_type": "code",
      "source": [
        "flip_coin()"
      ],
      "metadata": {
        "id": "ZcbnR1ln5sNh"
      },
      "execution_count": null,
      "outputs": []
    },
    {
      "cell_type": "code",
      "source": [
        "np.random.randint(15,20)"
      ],
      "metadata": {
        "id": "VNb9hPJuLqWF"
      },
      "execution_count": null,
      "outputs": []
    },
    {
      "cell_type": "code",
      "metadata": {
        "id": "vFHNmtSRpyXg"
      },
      "source": [
        "def coin():\n",
        "  return np.random.randint(2)"
      ],
      "execution_count": null,
      "outputs": []
    },
    {
      "cell_type": "code",
      "metadata": {
        "id": "AfAPWIjzp2gY"
      },
      "source": [
        "coin()"
      ],
      "execution_count": null,
      "outputs": []
    },
    {
      "cell_type": "code",
      "metadata": {
        "id": "m-fkSNLTp4TH"
      },
      "source": [
        "display(HTML('<img src=\"https://random-ize.com/coin-flip/us-quarter/us-quarter-front.jpg\">'))"
      ],
      "execution_count": null,
      "outputs": []
    },
    {
      "cell_type": "code",
      "metadata": {
        "id": "PAyD2RQrq8ji"
      },
      "source": [
        "heads = 'https://random-ize.com/coin-flip/us-quarter/us-quarter-front.jpg'\n",
        "tails = 'https://random-ize.com/coin-flip/us-quarter/us-quarter-back.jpg'"
      ],
      "execution_count": null,
      "outputs": []
    },
    {
      "cell_type": "code",
      "metadata": {
        "id": "BmZMzsCjrhaV"
      },
      "source": [
        "def show_img(img):\n",
        "  display(HTML('<img src=' + img + '>'))"
      ],
      "execution_count": null,
      "outputs": []
    },
    {
      "cell_type": "code",
      "metadata": {
        "id": "UmSs0Jtrr_d2"
      },
      "source": [
        "show_img(heads)"
      ],
      "execution_count": null,
      "outputs": []
    },
    {
      "cell_type": "code",
      "metadata": {
        "id": "LDcFpan0sBgm"
      },
      "source": [
        "show_img(tails)"
      ],
      "execution_count": null,
      "outputs": []
    },
    {
      "cell_type": "code",
      "metadata": {
        "id": "U1Oe2gBlsFFQ"
      },
      "source": [
        "def flip_coin():\n",
        "\n",
        "    if coin():\n",
        "        show_img(heads)\n",
        "    else:\n",
        "        show_img(tails)"
      ],
      "execution_count": null,
      "outputs": []
    },
    {
      "cell_type": "code",
      "metadata": {
        "id": "qatV0cO1tLAF"
      },
      "source": [
        "flip_coin()"
      ],
      "execution_count": null,
      "outputs": []
    },
    {
      "cell_type": "code",
      "source": [
        "for i in range(5):\n",
        "    flip_coin()"
      ],
      "metadata": {
        "id": "JK_63sBc9ze4"
      },
      "execution_count": null,
      "outputs": []
    },
    {
      "cell_type": "code",
      "source": [],
      "metadata": {
        "id": "cB59QfQgFb4f"
      },
      "execution_count": null,
      "outputs": []
    },
    {
      "cell_type": "code",
      "source": [],
      "metadata": {
        "id": "x6FbWdWHGx8m"
      },
      "execution_count": null,
      "outputs": []
    },
    {
      "cell_type": "markdown",
      "source": [
        "# Cards"
      ],
      "metadata": {
        "id": "xe9KExvXIFDQ"
      }
    },
    {
      "cell_type": "code",
      "source": [],
      "metadata": {
        "id": "whfcIkG8IWER"
      },
      "execution_count": null,
      "outputs": []
    },
    {
      "cell_type": "code",
      "source": [
        "card_url_head = \"https://www.improvemagic.com/wp-content/uploads/2020/11/\"\n",
        "card_url_tail = \".png\""
      ],
      "metadata": {
        "id": "ZuGAbJIC_BGM"
      },
      "execution_count": null,
      "outputs": []
    },
    {
      "cell_type": "code",
      "source": [
        "suit = ['k','p','s','l'] #clubs,spades,hearts,diamonds\n",
        "card = ['a','2','3','4','5','6','7','8','9','10','j','q','k']"
      ],
      "metadata": {
        "id": "FSYUTq2F_BIx"
      },
      "execution_count": null,
      "outputs": []
    },
    {
      "cell_type": "code",
      "source": [
        "i = np.random.randint(4)\n",
        "j = np.random.randint(13)"
      ],
      "metadata": {
        "id": "4UBNVwxU_BL5"
      },
      "execution_count": null,
      "outputs": []
    },
    {
      "cell_type": "code",
      "source": [
        "i,j"
      ],
      "metadata": {
        "id": "pAx5veOKJYqk"
      },
      "execution_count": null,
      "outputs": []
    },
    {
      "cell_type": "code",
      "source": [
        "suit[i]"
      ],
      "metadata": {
        "id": "PJI87rOLADjE"
      },
      "execution_count": null,
      "outputs": []
    },
    {
      "cell_type": "code",
      "source": [
        "card[j]"
      ],
      "metadata": {
        "id": "4CDlPu3QAGrB"
      },
      "execution_count": null,
      "outputs": []
    },
    {
      "cell_type": "code",
      "source": [
        "def card_image(card_number):\n",
        "\n",
        "    i = card_number//13\n",
        "    j = card_number%13\n",
        "\n",
        "    return suit[i]+card[j]"
      ],
      "metadata": {
        "id": "JtqOFl_WAVxd"
      },
      "execution_count": null,
      "outputs": []
    },
    {
      "cell_type": "code",
      "source": [
        "card_image(3)"
      ],
      "metadata": {
        "id": "K1MVgXJ-AVz0"
      },
      "execution_count": null,
      "outputs": []
    },
    {
      "cell_type": "code",
      "source": [
        "img = card_url_head + card_image(3) + card_url_tail"
      ],
      "metadata": {
        "id": "2TGYbXUiB1iw"
      },
      "execution_count": null,
      "outputs": []
    },
    {
      "cell_type": "code",
      "source": [
        "img"
      ],
      "metadata": {
        "id": "_1DG4MhBNRDV"
      },
      "execution_count": null,
      "outputs": []
    },
    {
      "cell_type": "code",
      "source": [
        "show_img(img)"
      ],
      "metadata": {
        "id": "Ve1UcoH3B5sS"
      },
      "execution_count": null,
      "outputs": []
    },
    {
      "cell_type": "code",
      "source": [
        "for i in range(52):\n",
        "    img = card_url_head + card_image(i) + card_url_tail\n",
        "    show_img(img)"
      ],
      "metadata": {
        "id": "UCervcFTB5ut"
      },
      "execution_count": null,
      "outputs": []
    },
    {
      "cell_type": "code",
      "source": [
        "import random\n",
        "\n",
        "def initialize_deck():\n",
        "    #Create and shuffle a deck of 52 cards represented by numbers 0-51.\n",
        "    deck = list(range(52))\n",
        "    random.shuffle(deck)\n",
        "    return deck\n",
        "\n",
        "def draw_cards(deck, top_index, num=5):\n",
        "    drawn_cards = deck[top_index:top_index + num]\n",
        "    return drawn_cards, top_index + num\n",
        "\n",
        "# Initialize and shuffle the deck\n",
        "deck = initialize_deck()\n",
        "top_index = 0  # Start at the beginning of the deck"
      ],
      "metadata": {
        "id": "XiZJmBheIPfo"
      },
      "execution_count": null,
      "outputs": []
    },
    {
      "cell_type": "code",
      "source": [
        "deck"
      ],
      "metadata": {
        "id": "Xa8Sgnm_Z20Z"
      },
      "execution_count": null,
      "outputs": []
    },
    {
      "cell_type": "code",
      "source": [
        "# Draw 5 cards for a poker hand\n",
        "hand, top_index = draw_cards(deck, top_index, 5)"
      ],
      "metadata": {
        "id": "-o6dg7HgZyY-"
      },
      "execution_count": null,
      "outputs": []
    },
    {
      "cell_type": "code",
      "source": [
        "hand"
      ],
      "metadata": {
        "id": "yD7PXNOEZz6y"
      },
      "execution_count": null,
      "outputs": []
    },
    {
      "cell_type": "code",
      "source": [
        "hand, top_index = draw_cards(deck, top_index, 5)"
      ],
      "metadata": {
        "id": "p2k3mE9VZvlL"
      },
      "execution_count": null,
      "outputs": []
    },
    {
      "cell_type": "code",
      "source": [
        "hand"
      ],
      "metadata": {
        "id": "CON4qPmYZ1Cy"
      },
      "execution_count": null,
      "outputs": []
    },
    {
      "cell_type": "code",
      "source": [
        "# Display the hand\n",
        "for card_number in hand:\n",
        "    img_url = card_url_head + card_image(card_number) + card_url_tail\n",
        "    show_img(img_url)"
      ],
      "metadata": {
        "id": "RJC98zl-YDi1"
      },
      "execution_count": null,
      "outputs": []
    },
    {
      "cell_type": "code",
      "source": [
        "def show_hand(hand):\n",
        "    images_html = ''.join([f'<img src=\"{card_url_head + card_image(card_number) + card_url_tail}\" style=\"display:inline-block; margin:5px;\" />' for card_number in hand])\n",
        "    display(HTML(images_html))\n",
        "\n",
        "show_hand(hand)\n"
      ],
      "metadata": {
        "id": "JMciwLZZYfAA"
      },
      "execution_count": null,
      "outputs": []
    },
    {
      "cell_type": "code",
      "source": [],
      "metadata": {
        "id": "4pSVdfBDaESe"
      },
      "execution_count": null,
      "outputs": []
    },
    {
      "cell_type": "code",
      "source": [],
      "metadata": {
        "id": "CIyFI0YraEZ2"
      },
      "execution_count": null,
      "outputs": []
    },
    {
      "cell_type": "markdown",
      "source": [
        "# Rank Hand"
      ],
      "metadata": {
        "id": "P8xGcQSuauDT"
      }
    },
    {
      "cell_type": "code",
      "source": [
        "def evaluate_hand(hand):\n",
        "    rank_values = {'2': 2, '3': 3, '4': 4, '5': 5, '6': 6, '7': 7, '8': 8, '9': 9, '10': 10, 'j': 11, 'q': 12, 'k': 13, 'a': 14}\n",
        "    suits = ['k', 'p', 's', 'l']  # clubs, spades, hearts, diamonds\n",
        "\n",
        "    # Convert the hand to a list of (rank, suit) tuples\n",
        "    converted_hand = [(rank_values[card[card_number % 13]], suits[card_number // 13]) for card_number in hand]\n",
        "    converted_hand.sort()\n",
        "\n",
        "    rank_counts = {rank: 0 for rank in rank_values.values()}\n",
        "    suit_counts = {suit: 0 for suit in suits}\n",
        "    for rank, suit in converted_hand:\n",
        "        rank_counts[rank] += 1\n",
        "        suit_counts[suit] += 1\n",
        "\n",
        "    # Check for flush\n",
        "    is_flush = max(suit_counts.values()) == 5\n",
        "\n",
        "    # Check for straight and royal flush\n",
        "    rank_sequence = [rank for rank, _ in converted_hand]\n",
        "    is_straight = all(rank_sequence[i] - rank_sequence[i - 1] == 1 for i in range(1, 5))\n",
        "    is_royal = is_straight and rank_sequence[0] == 10\n",
        "\n",
        "    # Check for other hand types\n",
        "    pairs = sum(1 for count in rank_counts.values() if count == 2)\n",
        "    three_of_a_kind = 3 in rank_counts.values()\n",
        "    four_of_a_kind = 4 in rank_counts.values()\n",
        "\n",
        "    if is_royal and is_flush:\n",
        "        return \"Royal Flush\"\n",
        "    elif is_straight and is_flush:\n",
        "        return \"Straight Flush\"\n",
        "    elif four_of_a_kind:\n",
        "        return \"Four of a Kind\"\n",
        "    elif three_of_a_kind and pairs == 1:\n",
        "        return \"Full House\"\n",
        "    elif is_flush:\n",
        "        return \"Flush\"\n",
        "    elif is_straight:\n",
        "        return \"Straight\"\n",
        "    elif three_of_a_kind:\n",
        "        return \"Three of a Kind\"\n",
        "    elif pairs == 2:\n",
        "        return \"Two Pair\"\n",
        "    elif pairs == 1:\n",
        "        return \"One Pair\"\n",
        "    else:\n",
        "        return \"High Card\""
      ],
      "metadata": {
        "id": "5X7L14IXXwB1"
      },
      "execution_count": null,
      "outputs": []
    },
    {
      "cell_type": "code",
      "source": [],
      "metadata": {
        "id": "88Ln53YKaPFs"
      },
      "execution_count": null,
      "outputs": []
    },
    {
      "cell_type": "code",
      "source": [
        "# Initialize and shuffle the deck\n",
        "deck = initialize_deck()\n",
        "top_index = 0  # Start at the beginning of the deck\n",
        "\n",
        "hand, top_index = draw_cards(deck, top_index, 5)\n",
        "\n",
        "\n",
        "print(evaluate_hand(hand))\n",
        "show_hand(hand)"
      ],
      "metadata": {
        "id": "9n4BkXCgaPIN"
      },
      "execution_count": null,
      "outputs": []
    },
    {
      "cell_type": "code",
      "source": [],
      "metadata": {
        "id": "Gvkbf51BYrQN"
      },
      "execution_count": null,
      "outputs": []
    },
    {
      "cell_type": "code",
      "source": [
        "for i in range(10):\n",
        "    # Initialize and shuffle the deck\n",
        "    deck = initialize_deck()\n",
        "    top_index = 0  # Start at the beginning of the deck\n",
        "\n",
        "    hand, top_index = draw_cards(deck, top_index, 5)\n",
        "\n",
        "\n",
        "    print(evaluate_hand(hand))\n",
        "    show_hand(hand)"
      ],
      "metadata": {
        "id": "3Nio0wmHajqT"
      },
      "execution_count": null,
      "outputs": []
    },
    {
      "cell_type": "code",
      "source": [],
      "metadata": {
        "id": "vJSv5gqMYwpD"
      },
      "execution_count": null,
      "outputs": []
    },
    {
      "cell_type": "code",
      "source": [
        "for i in range(100):\n",
        "    # Initialize and shuffle the deck\n",
        "    deck = initialize_deck()\n",
        "    top_index = 0  # Start at the beginning of the deck\n",
        "\n",
        "    hand, top_index = draw_cards(deck, top_index, 5)\n",
        "\n",
        "    if evaluate_hand(hand) == \"Two Pair\":\n",
        "        print(\"Winner!\")\n",
        "        show_hand(hand)"
      ],
      "metadata": {
        "id": "4fjPFjdOYySY"
      },
      "execution_count": null,
      "outputs": []
    },
    {
      "cell_type": "code",
      "source": [],
      "metadata": {
        "id": "aZ-ii6TCbps5"
      },
      "execution_count": null,
      "outputs": []
    },
    {
      "cell_type": "code",
      "source": [
        "for i in range(1000):\n",
        "    # Initialize and shuffle the deck\n",
        "    deck = initialize_deck()\n",
        "    top_index = 0  # Start at the beginning of the deck\n",
        "\n",
        "    hand, top_index = draw_cards(deck, top_index, 5)\n",
        "\n",
        "    if evaluate_hand(hand) == \"Flush\":\n",
        "        print(\"Winner!\")\n",
        "        show_hand(hand)"
      ],
      "metadata": {
        "id": "ELMqN8vmbp5h"
      },
      "execution_count": null,
      "outputs": []
    },
    {
      "cell_type": "code",
      "source": [
        "%%timeit\n",
        "# Initialize and shuffle the deck\n",
        "deck = initialize_deck()\n",
        "top_index = 0  # Start at the beginning of the deck\n",
        "\n",
        "hand, top_index = draw_cards(deck, top_index, 5)\n",
        "\n",
        "if evaluate_hand(hand) == \"Royal Flush\":\n",
        "    print(\"Winner!\")\n",
        "    show_hand(hand)"
      ],
      "metadata": {
        "id": "Hiwjc2wDcA-W"
      },
      "execution_count": null,
      "outputs": []
    },
    {
      "cell_type": "code",
      "source": [
        "for i in range(1000000):\n",
        "    # Initialize and shuffle the deck\n",
        "    deck = initialize_deck()\n",
        "    top_index = 0  # Start at the beginning of the deck\n",
        "\n",
        "    hand, top_index = draw_cards(deck, top_index, 5)\n",
        "\n",
        "    if evaluate_hand(hand) == \"Royal Flush\":\n",
        "        print(\"Winner!\")\n",
        "        show_hand(hand)\n"
      ],
      "metadata": {
        "id": "MfZ17tITbb2N"
      },
      "execution_count": null,
      "outputs": []
    },
    {
      "cell_type": "code",
      "source": [],
      "metadata": {
        "id": "br1RRi_poHej"
      },
      "execution_count": null,
      "outputs": []
    },
    {
      "cell_type": "code",
      "source": [
        "wins = 0\n",
        "N = 10000000\n",
        "\n",
        "for i in range(N):\n",
        "    # Initialize and shuffle the deck\n",
        "    deck = initialize_deck()\n",
        "    top_index = 0  # Start at the beginning of the deck\n",
        "\n",
        "    hand, top_index = draw_cards(deck, top_index, 5)\n",
        "\n",
        "    if evaluate_hand(hand) == \"Royal Flush\":\n",
        "        wins += 1\n",
        "        print(\"Winner!\")\n",
        "        show_hand(hand)"
      ],
      "metadata": {
        "colab": {
          "base_uri": "https://localhost:8080/",
          "height": 1000
        },
        "id": "rU4xfCSPoHjR",
        "outputId": "0b74991c-c661-4784-e8c5-b81712b6e0a5"
      },
      "execution_count": null,
      "outputs": [
        {
          "output_type": "stream",
          "name": "stdout",
          "text": [
            "Winner!\n"
          ]
        },
        {
          "output_type": "display_data",
          "data": {
            "text/plain": [
              "<IPython.core.display.HTML object>"
            ],
            "text/html": [
              "<img src=\"https://www.improvemagic.com/wp-content/uploads/2020/11/lq.png\" style=\"display:inline-block; margin:5px;\" /><img src=\"https://www.improvemagic.com/wp-content/uploads/2020/11/lj.png\" style=\"display:inline-block; margin:5px;\" /><img src=\"https://www.improvemagic.com/wp-content/uploads/2020/11/la.png\" style=\"display:inline-block; margin:5px;\" /><img src=\"https://www.improvemagic.com/wp-content/uploads/2020/11/l10.png\" style=\"display:inline-block; margin:5px;\" /><img src=\"https://www.improvemagic.com/wp-content/uploads/2020/11/lk.png\" style=\"display:inline-block; margin:5px;\" />"
            ]
          },
          "metadata": {}
        },
        {
          "output_type": "stream",
          "name": "stdout",
          "text": [
            "Winner!\n"
          ]
        },
        {
          "output_type": "display_data",
          "data": {
            "text/plain": [
              "<IPython.core.display.HTML object>"
            ],
            "text/html": [
              "<img src=\"https://www.improvemagic.com/wp-content/uploads/2020/11/p10.png\" style=\"display:inline-block; margin:5px;\" /><img src=\"https://www.improvemagic.com/wp-content/uploads/2020/11/pq.png\" style=\"display:inline-block; margin:5px;\" /><img src=\"https://www.improvemagic.com/wp-content/uploads/2020/11/pj.png\" style=\"display:inline-block; margin:5px;\" /><img src=\"https://www.improvemagic.com/wp-content/uploads/2020/11/pa.png\" style=\"display:inline-block; margin:5px;\" /><img src=\"https://www.improvemagic.com/wp-content/uploads/2020/11/pk.png\" style=\"display:inline-block; margin:5px;\" />"
            ]
          },
          "metadata": {}
        },
        {
          "output_type": "stream",
          "name": "stdout",
          "text": [
            "Winner!\n"
          ]
        },
        {
          "output_type": "display_data",
          "data": {
            "text/plain": [
              "<IPython.core.display.HTML object>"
            ],
            "text/html": [
              "<img src=\"https://www.improvemagic.com/wp-content/uploads/2020/11/lq.png\" style=\"display:inline-block; margin:5px;\" /><img src=\"https://www.improvemagic.com/wp-content/uploads/2020/11/lj.png\" style=\"display:inline-block; margin:5px;\" /><img src=\"https://www.improvemagic.com/wp-content/uploads/2020/11/lk.png\" style=\"display:inline-block; margin:5px;\" /><img src=\"https://www.improvemagic.com/wp-content/uploads/2020/11/l10.png\" style=\"display:inline-block; margin:5px;\" /><img src=\"https://www.improvemagic.com/wp-content/uploads/2020/11/la.png\" style=\"display:inline-block; margin:5px;\" />"
            ]
          },
          "metadata": {}
        },
        {
          "output_type": "stream",
          "name": "stdout",
          "text": [
            "Winner!\n"
          ]
        },
        {
          "output_type": "display_data",
          "data": {
            "text/plain": [
              "<IPython.core.display.HTML object>"
            ],
            "text/html": [
              "<img src=\"https://www.improvemagic.com/wp-content/uploads/2020/11/p10.png\" style=\"display:inline-block; margin:5px;\" /><img src=\"https://www.improvemagic.com/wp-content/uploads/2020/11/pq.png\" style=\"display:inline-block; margin:5px;\" /><img src=\"https://www.improvemagic.com/wp-content/uploads/2020/11/pk.png\" style=\"display:inline-block; margin:5px;\" /><img src=\"https://www.improvemagic.com/wp-content/uploads/2020/11/pj.png\" style=\"display:inline-block; margin:5px;\" /><img src=\"https://www.improvemagic.com/wp-content/uploads/2020/11/pa.png\" style=\"display:inline-block; margin:5px;\" />"
            ]
          },
          "metadata": {}
        },
        {
          "output_type": "stream",
          "name": "stdout",
          "text": [
            "Winner!\n"
          ]
        },
        {
          "output_type": "display_data",
          "data": {
            "text/plain": [
              "<IPython.core.display.HTML object>"
            ],
            "text/html": [
              "<img src=\"https://www.improvemagic.com/wp-content/uploads/2020/11/lk.png\" style=\"display:inline-block; margin:5px;\" /><img src=\"https://www.improvemagic.com/wp-content/uploads/2020/11/l10.png\" style=\"display:inline-block; margin:5px;\" /><img src=\"https://www.improvemagic.com/wp-content/uploads/2020/11/lj.png\" style=\"display:inline-block; margin:5px;\" /><img src=\"https://www.improvemagic.com/wp-content/uploads/2020/11/lq.png\" style=\"display:inline-block; margin:5px;\" /><img src=\"https://www.improvemagic.com/wp-content/uploads/2020/11/la.png\" style=\"display:inline-block; margin:5px;\" />"
            ]
          },
          "metadata": {}
        },
        {
          "output_type": "stream",
          "name": "stdout",
          "text": [
            "Winner!\n"
          ]
        },
        {
          "output_type": "display_data",
          "data": {
            "text/plain": [
              "<IPython.core.display.HTML object>"
            ],
            "text/html": [
              "<img src=\"https://www.improvemagic.com/wp-content/uploads/2020/11/sk.png\" style=\"display:inline-block; margin:5px;\" /><img src=\"https://www.improvemagic.com/wp-content/uploads/2020/11/sa.png\" style=\"display:inline-block; margin:5px;\" /><img src=\"https://www.improvemagic.com/wp-content/uploads/2020/11/s10.png\" style=\"display:inline-block; margin:5px;\" /><img src=\"https://www.improvemagic.com/wp-content/uploads/2020/11/sq.png\" style=\"display:inline-block; margin:5px;\" /><img src=\"https://www.improvemagic.com/wp-content/uploads/2020/11/sj.png\" style=\"display:inline-block; margin:5px;\" />"
            ]
          },
          "metadata": {}
        },
        {
          "output_type": "stream",
          "name": "stdout",
          "text": [
            "Winner!\n"
          ]
        },
        {
          "output_type": "display_data",
          "data": {
            "text/plain": [
              "<IPython.core.display.HTML object>"
            ],
            "text/html": [
              "<img src=\"https://www.improvemagic.com/wp-content/uploads/2020/11/lk.png\" style=\"display:inline-block; margin:5px;\" /><img src=\"https://www.improvemagic.com/wp-content/uploads/2020/11/la.png\" style=\"display:inline-block; margin:5px;\" /><img src=\"https://www.improvemagic.com/wp-content/uploads/2020/11/lj.png\" style=\"display:inline-block; margin:5px;\" /><img src=\"https://www.improvemagic.com/wp-content/uploads/2020/11/lq.png\" style=\"display:inline-block; margin:5px;\" /><img src=\"https://www.improvemagic.com/wp-content/uploads/2020/11/l10.png\" style=\"display:inline-block; margin:5px;\" />"
            ]
          },
          "metadata": {}
        },
        {
          "output_type": "stream",
          "name": "stdout",
          "text": [
            "Winner!\n"
          ]
        },
        {
          "output_type": "display_data",
          "data": {
            "text/plain": [
              "<IPython.core.display.HTML object>"
            ],
            "text/html": [
              "<img src=\"https://www.improvemagic.com/wp-content/uploads/2020/11/pa.png\" style=\"display:inline-block; margin:5px;\" /><img src=\"https://www.improvemagic.com/wp-content/uploads/2020/11/pk.png\" style=\"display:inline-block; margin:5px;\" /><img src=\"https://www.improvemagic.com/wp-content/uploads/2020/11/pq.png\" style=\"display:inline-block; margin:5px;\" /><img src=\"https://www.improvemagic.com/wp-content/uploads/2020/11/p10.png\" style=\"display:inline-block; margin:5px;\" /><img src=\"https://www.improvemagic.com/wp-content/uploads/2020/11/pj.png\" style=\"display:inline-block; margin:5px;\" />"
            ]
          },
          "metadata": {}
        },
        {
          "output_type": "stream",
          "name": "stdout",
          "text": [
            "Winner!\n"
          ]
        },
        {
          "output_type": "display_data",
          "data": {
            "text/plain": [
              "<IPython.core.display.HTML object>"
            ],
            "text/html": [
              "<img src=\"https://www.improvemagic.com/wp-content/uploads/2020/11/sa.png\" style=\"display:inline-block; margin:5px;\" /><img src=\"https://www.improvemagic.com/wp-content/uploads/2020/11/sj.png\" style=\"display:inline-block; margin:5px;\" /><img src=\"https://www.improvemagic.com/wp-content/uploads/2020/11/sk.png\" style=\"display:inline-block; margin:5px;\" /><img src=\"https://www.improvemagic.com/wp-content/uploads/2020/11/sq.png\" style=\"display:inline-block; margin:5px;\" /><img src=\"https://www.improvemagic.com/wp-content/uploads/2020/11/s10.png\" style=\"display:inline-block; margin:5px;\" />"
            ]
          },
          "metadata": {}
        },
        {
          "output_type": "stream",
          "name": "stdout",
          "text": [
            "Winner!\n"
          ]
        },
        {
          "output_type": "display_data",
          "data": {
            "text/plain": [
              "<IPython.core.display.HTML object>"
            ],
            "text/html": [
              "<img src=\"https://www.improvemagic.com/wp-content/uploads/2020/11/k10.png\" style=\"display:inline-block; margin:5px;\" /><img src=\"https://www.improvemagic.com/wp-content/uploads/2020/11/kk.png\" style=\"display:inline-block; margin:5px;\" /><img src=\"https://www.improvemagic.com/wp-content/uploads/2020/11/kq.png\" style=\"display:inline-block; margin:5px;\" /><img src=\"https://www.improvemagic.com/wp-content/uploads/2020/11/kj.png\" style=\"display:inline-block; margin:5px;\" /><img src=\"https://www.improvemagic.com/wp-content/uploads/2020/11/ka.png\" style=\"display:inline-block; margin:5px;\" />"
            ]
          },
          "metadata": {}
        },
        {
          "output_type": "stream",
          "name": "stdout",
          "text": [
            "Winner!\n"
          ]
        },
        {
          "output_type": "display_data",
          "data": {
            "text/plain": [
              "<IPython.core.display.HTML object>"
            ],
            "text/html": [
              "<img src=\"https://www.improvemagic.com/wp-content/uploads/2020/11/pq.png\" style=\"display:inline-block; margin:5px;\" /><img src=\"https://www.improvemagic.com/wp-content/uploads/2020/11/pa.png\" style=\"display:inline-block; margin:5px;\" /><img src=\"https://www.improvemagic.com/wp-content/uploads/2020/11/pk.png\" style=\"display:inline-block; margin:5px;\" /><img src=\"https://www.improvemagic.com/wp-content/uploads/2020/11/p10.png\" style=\"display:inline-block; margin:5px;\" /><img src=\"https://www.improvemagic.com/wp-content/uploads/2020/11/pj.png\" style=\"display:inline-block; margin:5px;\" />"
            ]
          },
          "metadata": {}
        },
        {
          "output_type": "stream",
          "name": "stdout",
          "text": [
            "Winner!\n"
          ]
        },
        {
          "output_type": "display_data",
          "data": {
            "text/plain": [
              "<IPython.core.display.HTML object>"
            ],
            "text/html": [
              "<img src=\"https://www.improvemagic.com/wp-content/uploads/2020/11/kk.png\" style=\"display:inline-block; margin:5px;\" /><img src=\"https://www.improvemagic.com/wp-content/uploads/2020/11/k10.png\" style=\"display:inline-block; margin:5px;\" /><img src=\"https://www.improvemagic.com/wp-content/uploads/2020/11/ka.png\" style=\"display:inline-block; margin:5px;\" /><img src=\"https://www.improvemagic.com/wp-content/uploads/2020/11/kj.png\" style=\"display:inline-block; margin:5px;\" /><img src=\"https://www.improvemagic.com/wp-content/uploads/2020/11/kq.png\" style=\"display:inline-block; margin:5px;\" />"
            ]
          },
          "metadata": {}
        },
        {
          "output_type": "stream",
          "name": "stdout",
          "text": [
            "Winner!\n"
          ]
        },
        {
          "output_type": "display_data",
          "data": {
            "text/plain": [
              "<IPython.core.display.HTML object>"
            ],
            "text/html": [
              "<img src=\"https://www.improvemagic.com/wp-content/uploads/2020/11/k10.png\" style=\"display:inline-block; margin:5px;\" /><img src=\"https://www.improvemagic.com/wp-content/uploads/2020/11/kj.png\" style=\"display:inline-block; margin:5px;\" /><img src=\"https://www.improvemagic.com/wp-content/uploads/2020/11/ka.png\" style=\"display:inline-block; margin:5px;\" /><img src=\"https://www.improvemagic.com/wp-content/uploads/2020/11/kk.png\" style=\"display:inline-block; margin:5px;\" /><img src=\"https://www.improvemagic.com/wp-content/uploads/2020/11/kq.png\" style=\"display:inline-block; margin:5px;\" />"
            ]
          },
          "metadata": {}
        },
        {
          "output_type": "stream",
          "name": "stdout",
          "text": [
            "Winner!\n"
          ]
        },
        {
          "output_type": "display_data",
          "data": {
            "text/plain": [
              "<IPython.core.display.HTML object>"
            ],
            "text/html": [
              "<img src=\"https://www.improvemagic.com/wp-content/uploads/2020/11/lj.png\" style=\"display:inline-block; margin:5px;\" /><img src=\"https://www.improvemagic.com/wp-content/uploads/2020/11/l10.png\" style=\"display:inline-block; margin:5px;\" /><img src=\"https://www.improvemagic.com/wp-content/uploads/2020/11/lq.png\" style=\"display:inline-block; margin:5px;\" /><img src=\"https://www.improvemagic.com/wp-content/uploads/2020/11/la.png\" style=\"display:inline-block; margin:5px;\" /><img src=\"https://www.improvemagic.com/wp-content/uploads/2020/11/lk.png\" style=\"display:inline-block; margin:5px;\" />"
            ]
          },
          "metadata": {}
        }
      ]
    },
    {
      "cell_type": "code",
      "source": [
        "wins/N"
      ],
      "metadata": {
        "id": "Q7WDJidEw7yT",
        "outputId": "95435b29-168c-4637-d933-e376a78f33be",
        "colab": {
          "base_uri": "https://localhost:8080/"
        }
      },
      "execution_count": null,
      "outputs": [
        {
          "output_type": "execute_result",
          "data": {
            "text/plain": [
              "1.4e-06"
            ]
          },
          "metadata": {},
          "execution_count": 241
        }
      ]
    },
    {
      "cell_type": "code",
      "source": [],
      "metadata": {
        "id": "Erx7P3YYb9jx"
      },
      "execution_count": null,
      "outputs": []
    }
  ]
}